{
 "cells": [
  {
   "cell_type": "code",
   "execution_count": 1,
   "metadata": {},
   "outputs": [
    {
     "name": "stdout",
     "output_type": "stream",
     "text": [
      "\n",
      "\n",
      "Evaluation:\n",
      "\n",
      "\n",
      "Confusion Matrix:\n",
      "[[19  0  0]\n",
      " [ 0 12  1]\n",
      " [ 0  0 13]]\n"
     ]
    },
    {
     "data": {
      "image/png": "[encoded data removed]",
      "text/plain": [
       "<Figure size 432x288 with 2 Axes>"
      ]
     },
     "metadata": {
      "needs_background": "light"
     },
     "output_type": "display_data"
    },
    {
     "name": "stdout",
     "output_type": "stream",
     "text": [
      "\n",
      "\n",
      "Overfitting Report:\n",
      "{'fit_time': array([0.01158214, 0.01037621, 0.00878882, 0.0091393 , 0.00715709]), 'score_time': array([0.00137591, 0.00137711, 0.0010922 , 0.00137877, 0.00170493]), 'test_score': array([0.9       , 1.        , 0.9       , 0.96666667, 1.        ]), 'train_score': array([0.96666667, 0.95      , 0.975     , 0.95833333, 0.95      ])}\n",
      "\n",
      "\n",
      "Classification Report:\n",
      "              precision    recall  f1-score   support\n",
      "\n",
      "           0       1.00      1.00      1.00        19\n",
      "           1       1.00      0.92      0.96        13\n",
      "           2       0.93      1.00      0.96        13\n",
      "\n",
      "    accuracy                           0.98        45\n",
      "   macro avg       0.98      0.97      0.97        45\n",
      "weighted avg       0.98      0.98      0.98        45\n",
      "\n",
      "\n",
      "\n",
      "Answer:\n",
      "Petal length: 4, Petal width: 2 merupakan Species Iris-versicolor\n",
      "Petal length: 2.4, Petal width: 3 merupakan Species Iris-versicolor\n",
      "Petal length: 5.6, Petal width: 3.3 merupakan Species Iris-virginica\n",
      "\n",
      "\n",
      "Plot:\n"
     ]
    },
    {
     "data": {
      "image/png": "[encoded data removed]",
      "text/plain": [
       "<Figure size 720x360 with 1 Axes>"
      ]
     },
     "metadata": {
      "needs_background": "light"
     },
     "output_type": "display_data"
    }
   ],
   "source": [
    "import matplotlib.pyplot as plt\n",
    "import warnings # tambahan agar tidak muncul warnings saat running\n",
    "warnings.simplefilter(\"ignore\")\n",
    "\n",
    "# data frame\n",
    "import pandas as pd # import pandas\n",
    "iris_df = pd.read_csv('Iris(1).csv') # dataset\n",
    "\n",
    "# feature selection\n",
    "df = iris_df[['PetalLengthCm', 'PetalWidthCm','Species']] # pemilihan X sesuai soal\n",
    "\n",
    "# label encoding species's column\n",
    "from sklearn import preprocessing # import preprocessing\n",
    "le = preprocessing.LabelEncoder() # membentuk variabel sebagai label encoder\n",
    "le.fit(('Iris-setosa','Iris-versicolor','Iris-virginica')) # fit labelencoder ke 'Iris-setosa','Iris-versicolor','Iris-virginica'\n",
    "df['Species'] = le.transform(df['Species']) # encode 'Iris-setosa' : 0, 'Iris-versicolor' : 1, 'Iris-virginica' : 2 pada kolom Species\n",
    "\n",
    "# feature\n",
    "X = df[['PetalLengthCm', 'PetalWidthCm']] # feature dari X\n",
    "y = df['Species'] # membentuk y\n",
    "\n",
    "# train - test split\n",
    "from sklearn.model_selection import train_test_split # import train_test_split untuk splitting data\n",
    "X_train, X_test, y_train, y_test = train_test_split(X, y, test_size=0.3, random_state = 42) # split data dengan perbadingan 7:3\n",
    "\n",
    "# model\n",
    "from sklearn.linear_model import LogisticRegression # import LogisticRegression\n",
    "model = LogisticRegression(C = 0.04).fit(X_train, y_train) # membentuk model fit X_train dan y_train dengan C = 0.04\n",
    "\n",
    "# prediction\n",
    "y_predict = model.predict(X_test) # prediksi dari model\n",
    "\n",
    "# evaluation\n",
    "print('\\n')\n",
    "print('Evaluation:')\n",
    "\n",
    "print('\\n')\n",
    "print('Confusion Matrix:')\n",
    "\n",
    "# confusion matrix\n",
    "from sklearn.metrics import confusion_matrix # import confusion_matrix\n",
    "print(confusion_matrix(y_test, y_predict)) # mencetak nilai confusion_matrix nya\n",
    "\n",
    "# plotting confusion matrix\n",
    "import seaborn as sns # import seaborn\n",
    "sns.heatmap(confusion_matrix(y_test, y_predict), annot = True) # memplot confusion_matrix nya\n",
    "plt.show() # show plot\n",
    "\n",
    "print('\\n')\n",
    "print('Overfitting Report:')\n",
    "\n",
    "# checking for overfitting\n",
    "from sklearn.model_selection import cross_validate # import cross_validate\n",
    "print(cross_validate(model,X,y,return_train_score = True)) # mencetak hasil cross_validate\n",
    "\n",
    "print('\\n')\n",
    "print('Classification Report:')\n",
    "\n",
    "# classification report\n",
    "from sklearn.metrics import classification_report # import classification_report\n",
    "print(classification_report(y_test, y_predict)) # mencetak hasil classification_report\n",
    "\n",
    "print('\\n')\n",
    "print('Answer:')\n",
    "\n",
    "# answer\n",
    "i = [[4, 2], [2.4, 3], [5.6, 3.3]] # list yang berisi pertanyaan soal\n",
    "for n in range (len(i)): # looping for dari n sepanjag len(i)\n",
    "    predict = model.predict([i[n]]) # prediksi dari tiap indeks i \n",
    "    if predict == [0]: # jika hasil prediksi = [0]\n",
    "        answer = 'Iris-setosa' # assign 'Iris-setosa' ke variabel answer\n",
    "    elif predict == [1]: # jika hasil prediksi = [0]\n",
    "        answer = 'Iris-versicolor' # assign 'Iris-versicolor' ke variabel answer\n",
    "    else: # jika hasil prediksi selain [0] dan [1]\n",
    "        answer = 'Iris-virginica' # assign 'Iris-virginica' ke variabel answer\n",
    "    # mencetak\n",
    "    print('Petal length: {0}, Petal width: {1} merupakan Species {2}'.format(i[n][0], i[n][1], answer))\n",
    "    \n",
    "print('\\n')\n",
    "print('Plot:')\n",
    "\n",
    "# plotting\n",
    "import numpy as np # import numpy\n",
    "import matplotlib.pyplot as plt # import matplotlib.pyplot\n",
    "# agar plot lebih bagus\n",
    "%matplotlib inline\n",
    "\n",
    "titik_x1, titik_x2 = np.meshgrid(np.linspace(0, 8, 650).reshape(-1, 1), np.linspace(0, 4, 350).reshape(-1, 1),)\n",
    "# mengambil titik_x1 dengan dimulai dari 0 berhenti di 8 dengan membagi sebanyak 650 point , \n",
    "# mengambil titik_x2 dengan dimulai dari 0 berhenti di 4 dengan membagi sebanyak 350 point\n",
    "\n",
    "Xplot = np.c_[titik_x1.ravel(), titik_x2.ravel()] # .ravel() untuk menyesuaikan ukuran sesuai dengan transformasi\n",
    "Yplot = model.predict(Xplot) # y plot yang dibentuk dari prediksi model terhadap x plot\n",
    "area = Yplot.reshape(titik_x1.shape) # membentuk variabel area dengan mereshape sesuai dengan shape titik_x1\n",
    "\n",
    "plt.figure(figsize=(10, 5)) # ukuran figure\n",
    "# scatter plot untuk Iris-setosa yakni y = 0 pada kolom 'Species' dengan 0, 1 indeks PetalLengthCm dan PetalwidthCm\n",
    "plt.plot(X[y==0].iloc[:,0], X[y==0].iloc[:,1], 'k>', label = 'Iris setosa') # dengan m merupakan warna hitam , dan marker '>'\n",
    "# kemudian diberikan label Iris setosa dan simbol sesuai dengan yang ditentukan\n",
    "# scatter plot untuk Iris-versicolor yakni y = 1 pada kolom 'Species' dengan 0, 1 indeks PetalLengthCm dan PetalwidthCm\n",
    "plt.plot(X[y==1].iloc[:,0], X[y==1].iloc[:,1], 'g+', label = 'Iris versicolor') # dengan r merupakan warna hijau , dan marker '+'\n",
    "# kemudian diberikan label Iris versicolor dan simbol sesuai dengan yang ditentukan\n",
    "# scatter plot untuk Iris-virginica yakni y = 1 pada kolom 'Species' dengan 0, 1 indeks PetalLengthCm dan PetalwidthCm\n",
    "plt.plot(X[y==2].iloc[:,0], X[y==2].iloc[:,1], 'b^', label = 'Iris virginica') # dengan g merupakan warna biru , dan marker '^'\n",
    "# kemudian diberikan label Iris virginica dan simbol sesuai dengan yang ditentukan\n",
    "\n",
    "from matplotlib.colors import ListedColormap # import ListedColormap\n",
    "custom_cmap = ListedColormap(['pink','cyan','yellow']) # memberi warna untuk map area\n",
    "plt.contourf(titik_x1, titik_x2, area, cmap= custom_cmap) # membentuk background contour\n",
    "plt.xlabel('PetalLengthCm', fontsize = 8) # memberi nama sumbu x 'PetalLengthCm'\n",
    "plt.ylabel('PetalWidthCm', fontsize = 8) # memberi nama sumbu y 'PetalWidthCm'\n",
    "plt.legend(loc = 'upper left', fontsize = 8) # memberikan legend dengan lokasi atas kanan\n",
    "plt.axis([0, 8, 0, 4]) # mengatur panjang sumbu\n",
    "plt.show() # show plot"
   ]
  }
 ],
 "metadata": {
  "kernelspec": {
   "display_name": "Python 3",
   "language": "python",
   "name": "python3"
  },
  "language_info": {
   "codemirror_mode": {
    "name": "ipython",
    "version": 3
   },
   "file_extension": ".py",
   "mimetype": "text/x-python",
   "name": "python",
   "nbconvert_exporter": "python",
   "pygments_lexer": "ipython3",
   "version": "3.8.3"
  }
 },
 "nbformat": 4,
 "nbformat_minor": 4
}
